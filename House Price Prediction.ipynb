{
 "cells": [
  {
   "metadata": {
    "ExecuteTime": {
     "end_time": "2025-07-25T18:52:52.423838Z",
     "start_time": "2025-07-25T18:52:52.414610Z"
    }
   },
   "cell_type": "code",
   "source": [
    "import pandas as pd\n",
    "import numpy as np\n",
    "from sklearn.model_selection import train_test_split\n",
    "from sklearn.preprocessing import StandardScaler, OneHotEncoder\n",
    "from sklearn.compose import ColumnTransformer\n",
    "from sklearn.metrics import mean_absolute_error, mean_squared_error, r2_score\n",
    "from tensorflow.keras.models import Sequential\n",
    "from tensorflow.keras.layers import Dense, Dropout, BatchNormalization\n",
    "from tensorflow.keras.callbacks import EarlyStopping\n",
    "import pickle"
   ],
   "id": "83f7d2e3a43d422a",
   "outputs": [],
   "execution_count": 99
  },
  {
   "metadata": {
    "ExecuteTime": {
     "end_time": "2025-07-25T18:52:53.814066Z",
     "start_time": "2025-07-25T18:52:53.782655Z"
    }
   },
   "cell_type": "code",
   "source": [
    "Data = pd.read_csv('House Price Prediction Dataset.csv')\n",
    "Data.head()"
   ],
   "id": "9e5c46446f4ca64c",
   "outputs": [
    {
     "data": {
      "text/plain": [
       "   Id  Area  Bedrooms  Bathrooms  Floors  YearBuilt  Location  Condition  \\\n",
       "0   1  1360         5          4       3       1970  Downtown  Excellent   \n",
       "1   2  4272         5          4       3       1958  Downtown  Excellent   \n",
       "2   3  3592         2          2       3       1938  Downtown       Good   \n",
       "3   4   966         4          2       2       1902  Suburban       Fair   \n",
       "4   5  4926         1          4       2       1975  Downtown       Fair   \n",
       "\n",
       "  Garage   Price  \n",
       "0     No  149919  \n",
       "1     No  424998  \n",
       "2     No  266746  \n",
       "3    Yes  244020  \n",
       "4    Yes  636056  "
      ],
      "text/html": [
       "<div>\n",
       "<style scoped>\n",
       "    .dataframe tbody tr th:only-of-type {\n",
       "        vertical-align: middle;\n",
       "    }\n",
       "\n",
       "    .dataframe tbody tr th {\n",
       "        vertical-align: top;\n",
       "    }\n",
       "\n",
       "    .dataframe thead th {\n",
       "        text-align: right;\n",
       "    }\n",
       "</style>\n",
       "<table border=\"1\" class=\"dataframe\">\n",
       "  <thead>\n",
       "    <tr style=\"text-align: right;\">\n",
       "      <th></th>\n",
       "      <th>Id</th>\n",
       "      <th>Area</th>\n",
       "      <th>Bedrooms</th>\n",
       "      <th>Bathrooms</th>\n",
       "      <th>Floors</th>\n",
       "      <th>YearBuilt</th>\n",
       "      <th>Location</th>\n",
       "      <th>Condition</th>\n",
       "      <th>Garage</th>\n",
       "      <th>Price</th>\n",
       "    </tr>\n",
       "  </thead>\n",
       "  <tbody>\n",
       "    <tr>\n",
       "      <th>0</th>\n",
       "      <td>1</td>\n",
       "      <td>1360</td>\n",
       "      <td>5</td>\n",
       "      <td>4</td>\n",
       "      <td>3</td>\n",
       "      <td>1970</td>\n",
       "      <td>Downtown</td>\n",
       "      <td>Excellent</td>\n",
       "      <td>No</td>\n",
       "      <td>149919</td>\n",
       "    </tr>\n",
       "    <tr>\n",
       "      <th>1</th>\n",
       "      <td>2</td>\n",
       "      <td>4272</td>\n",
       "      <td>5</td>\n",
       "      <td>4</td>\n",
       "      <td>3</td>\n",
       "      <td>1958</td>\n",
       "      <td>Downtown</td>\n",
       "      <td>Excellent</td>\n",
       "      <td>No</td>\n",
       "      <td>424998</td>\n",
       "    </tr>\n",
       "    <tr>\n",
       "      <th>2</th>\n",
       "      <td>3</td>\n",
       "      <td>3592</td>\n",
       "      <td>2</td>\n",
       "      <td>2</td>\n",
       "      <td>3</td>\n",
       "      <td>1938</td>\n",
       "      <td>Downtown</td>\n",
       "      <td>Good</td>\n",
       "      <td>No</td>\n",
       "      <td>266746</td>\n",
       "    </tr>\n",
       "    <tr>\n",
       "      <th>3</th>\n",
       "      <td>4</td>\n",
       "      <td>966</td>\n",
       "      <td>4</td>\n",
       "      <td>2</td>\n",
       "      <td>2</td>\n",
       "      <td>1902</td>\n",
       "      <td>Suburban</td>\n",
       "      <td>Fair</td>\n",
       "      <td>Yes</td>\n",
       "      <td>244020</td>\n",
       "    </tr>\n",
       "    <tr>\n",
       "      <th>4</th>\n",
       "      <td>5</td>\n",
       "      <td>4926</td>\n",
       "      <td>1</td>\n",
       "      <td>4</td>\n",
       "      <td>2</td>\n",
       "      <td>1975</td>\n",
       "      <td>Downtown</td>\n",
       "      <td>Fair</td>\n",
       "      <td>Yes</td>\n",
       "      <td>636056</td>\n",
       "    </tr>\n",
       "  </tbody>\n",
       "</table>\n",
       "</div>"
      ]
     },
     "execution_count": 100,
     "metadata": {},
     "output_type": "execute_result"
    }
   ],
   "execution_count": 100
  },
  {
   "metadata": {
    "ExecuteTime": {
     "end_time": "2025-07-25T18:52:54.858459Z",
     "start_time": "2025-07-25T18:52:54.812861Z"
    }
   },
   "cell_type": "code",
   "source": "Data.drop(['Id'], axis = 1)",
   "id": "bd4844cdc092648c",
   "outputs": [
    {
     "data": {
      "text/plain": [
       "      Area  Bedrooms  Bathrooms  Floors  YearBuilt  Location  Condition  \\\n",
       "0     1360         5          4       3       1970  Downtown  Excellent   \n",
       "1     4272         5          4       3       1958  Downtown  Excellent   \n",
       "2     3592         2          2       3       1938  Downtown       Good   \n",
       "3      966         4          2       2       1902  Suburban       Fair   \n",
       "4     4926         1          4       2       1975  Downtown       Fair   \n",
       "...    ...       ...        ...     ...        ...       ...        ...   \n",
       "1995  4994         5          4       3       1923  Suburban       Poor   \n",
       "1996  3046         5          2       1       2019  Suburban       Poor   \n",
       "1997  1062         5          1       2       1903     Rural       Poor   \n",
       "1998  4062         3          1       2       1936     Urban  Excellent   \n",
       "1999  2989         5          1       3       1903  Suburban       Fair   \n",
       "\n",
       "     Garage   Price  \n",
       "0        No  149919  \n",
       "1        No  424998  \n",
       "2        No  266746  \n",
       "3       Yes  244020  \n",
       "4       Yes  636056  \n",
       "...     ...     ...  \n",
       "1995     No  295620  \n",
       "1996    Yes  580929  \n",
       "1997     No  476925  \n",
       "1998    Yes  161119  \n",
       "1999     No  482525  \n",
       "\n",
       "[2000 rows x 9 columns]"
      ],
      "text/html": [
       "<div>\n",
       "<style scoped>\n",
       "    .dataframe tbody tr th:only-of-type {\n",
       "        vertical-align: middle;\n",
       "    }\n",
       "\n",
       "    .dataframe tbody tr th {\n",
       "        vertical-align: top;\n",
       "    }\n",
       "\n",
       "    .dataframe thead th {\n",
       "        text-align: right;\n",
       "    }\n",
       "</style>\n",
       "<table border=\"1\" class=\"dataframe\">\n",
       "  <thead>\n",
       "    <tr style=\"text-align: right;\">\n",
       "      <th></th>\n",
       "      <th>Area</th>\n",
       "      <th>Bedrooms</th>\n",
       "      <th>Bathrooms</th>\n",
       "      <th>Floors</th>\n",
       "      <th>YearBuilt</th>\n",
       "      <th>Location</th>\n",
       "      <th>Condition</th>\n",
       "      <th>Garage</th>\n",
       "      <th>Price</th>\n",
       "    </tr>\n",
       "  </thead>\n",
       "  <tbody>\n",
       "    <tr>\n",
       "      <th>0</th>\n",
       "      <td>1360</td>\n",
       "      <td>5</td>\n",
       "      <td>4</td>\n",
       "      <td>3</td>\n",
       "      <td>1970</td>\n",
       "      <td>Downtown</td>\n",
       "      <td>Excellent</td>\n",
       "      <td>No</td>\n",
       "      <td>149919</td>\n",
       "    </tr>\n",
       "    <tr>\n",
       "      <th>1</th>\n",
       "      <td>4272</td>\n",
       "      <td>5</td>\n",
       "      <td>4</td>\n",
       "      <td>3</td>\n",
       "      <td>1958</td>\n",
       "      <td>Downtown</td>\n",
       "      <td>Excellent</td>\n",
       "      <td>No</td>\n",
       "      <td>424998</td>\n",
       "    </tr>\n",
       "    <tr>\n",
       "      <th>2</th>\n",
       "      <td>3592</td>\n",
       "      <td>2</td>\n",
       "      <td>2</td>\n",
       "      <td>3</td>\n",
       "      <td>1938</td>\n",
       "      <td>Downtown</td>\n",
       "      <td>Good</td>\n",
       "      <td>No</td>\n",
       "      <td>266746</td>\n",
       "    </tr>\n",
       "    <tr>\n",
       "      <th>3</th>\n",
       "      <td>966</td>\n",
       "      <td>4</td>\n",
       "      <td>2</td>\n",
       "      <td>2</td>\n",
       "      <td>1902</td>\n",
       "      <td>Suburban</td>\n",
       "      <td>Fair</td>\n",
       "      <td>Yes</td>\n",
       "      <td>244020</td>\n",
       "    </tr>\n",
       "    <tr>\n",
       "      <th>4</th>\n",
       "      <td>4926</td>\n",
       "      <td>1</td>\n",
       "      <td>4</td>\n",
       "      <td>2</td>\n",
       "      <td>1975</td>\n",
       "      <td>Downtown</td>\n",
       "      <td>Fair</td>\n",
       "      <td>Yes</td>\n",
       "      <td>636056</td>\n",
       "    </tr>\n",
       "    <tr>\n",
       "      <th>...</th>\n",
       "      <td>...</td>\n",
       "      <td>...</td>\n",
       "      <td>...</td>\n",
       "      <td>...</td>\n",
       "      <td>...</td>\n",
       "      <td>...</td>\n",
       "      <td>...</td>\n",
       "      <td>...</td>\n",
       "      <td>...</td>\n",
       "    </tr>\n",
       "    <tr>\n",
       "      <th>1995</th>\n",
       "      <td>4994</td>\n",
       "      <td>5</td>\n",
       "      <td>4</td>\n",
       "      <td>3</td>\n",
       "      <td>1923</td>\n",
       "      <td>Suburban</td>\n",
       "      <td>Poor</td>\n",
       "      <td>No</td>\n",
       "      <td>295620</td>\n",
       "    </tr>\n",
       "    <tr>\n",
       "      <th>1996</th>\n",
       "      <td>3046</td>\n",
       "      <td>5</td>\n",
       "      <td>2</td>\n",
       "      <td>1</td>\n",
       "      <td>2019</td>\n",
       "      <td>Suburban</td>\n",
       "      <td>Poor</td>\n",
       "      <td>Yes</td>\n",
       "      <td>580929</td>\n",
       "    </tr>\n",
       "    <tr>\n",
       "      <th>1997</th>\n",
       "      <td>1062</td>\n",
       "      <td>5</td>\n",
       "      <td>1</td>\n",
       "      <td>2</td>\n",
       "      <td>1903</td>\n",
       "      <td>Rural</td>\n",
       "      <td>Poor</td>\n",
       "      <td>No</td>\n",
       "      <td>476925</td>\n",
       "    </tr>\n",
       "    <tr>\n",
       "      <th>1998</th>\n",
       "      <td>4062</td>\n",
       "      <td>3</td>\n",
       "      <td>1</td>\n",
       "      <td>2</td>\n",
       "      <td>1936</td>\n",
       "      <td>Urban</td>\n",
       "      <td>Excellent</td>\n",
       "      <td>Yes</td>\n",
       "      <td>161119</td>\n",
       "    </tr>\n",
       "    <tr>\n",
       "      <th>1999</th>\n",
       "      <td>2989</td>\n",
       "      <td>5</td>\n",
       "      <td>1</td>\n",
       "      <td>3</td>\n",
       "      <td>1903</td>\n",
       "      <td>Suburban</td>\n",
       "      <td>Fair</td>\n",
       "      <td>No</td>\n",
       "      <td>482525</td>\n",
       "    </tr>\n",
       "  </tbody>\n",
       "</table>\n",
       "<p>2000 rows × 9 columns</p>\n",
       "</div>"
      ]
     },
     "execution_count": 101,
     "metadata": {},
     "output_type": "execute_result"
    }
   ],
   "execution_count": 101
  },
  {
   "metadata": {
    "ExecuteTime": {
     "end_time": "2025-07-25T18:52:55.860814Z",
     "start_time": "2025-07-25T18:52:55.855571Z"
    }
   },
   "cell_type": "code",
   "source": [
    "x = Data[['Area', 'Bedrooms', 'Bathrooms', 'Floors', 'YearBuilt', 'Location', 'Condition', 'Garage']]\n",
    "y = Data['Price']"
   ],
   "id": "c92bb9c5209737b3",
   "outputs": [],
   "execution_count": 102
  },
  {
   "metadata": {
    "ExecuteTime": {
     "end_time": "2025-07-25T18:52:56.754419Z",
     "start_time": "2025-07-25T18:52:56.747779Z"
    }
   },
   "cell_type": "code",
   "source": [
    "numerical_cols = [\"Area\", \"Bedrooms\", \"Bathrooms\", \"Floors\", \"YearBuilt\"]\n",
    "categorical_cols = [\"Location\", \"Condition\", \"Garage\"]"
   ],
   "id": "e1726a1d0f87a463",
   "outputs": [],
   "execution_count": 103
  },
  {
   "metadata": {
    "ExecuteTime": {
     "end_time": "2025-07-25T18:52:57.530445Z",
     "start_time": "2025-07-25T18:52:57.521833Z"
    }
   },
   "cell_type": "code",
   "source": [
    "preprocessor = ColumnTransformer(\n",
    "    transformers=[\n",
    "        (\"num\", StandardScaler(), numerical_cols),\n",
    "        (\"cat\", OneHotEncoder(drop=\"first\", sparse_output=False), categorical_cols)\n",
    "    ])"
   ],
   "id": "a7dcee5dab563b74",
   "outputs": [],
   "execution_count": 104
  },
  {
   "metadata": {
    "ExecuteTime": {
     "end_time": "2025-07-25T18:52:58.239361Z",
     "start_time": "2025-07-25T18:52:58.212772Z"
    }
   },
   "cell_type": "code",
   "source": "preprocessed_x = preprocessor.fit_transform(x)",
   "id": "ba05b2f6e279f058",
   "outputs": [],
   "execution_count": 105
  },
  {
   "metadata": {
    "ExecuteTime": {
     "end_time": "2025-07-25T18:52:58.883725Z",
     "start_time": "2025-07-25T18:52:58.871175Z"
    }
   },
   "cell_type": "code",
   "source": "preprocessed_x",
   "id": "42dfdc985c8275db",
   "outputs": [
    {
     "data": {
      "text/plain": [
       "array([[-1.10147065,  1.40179052,  1.30556821, ...,  0.        ,\n",
       "         0.        ,  0.        ],\n",
       "       [ 1.14748543,  1.40179052,  1.30556821, ...,  0.        ,\n",
       "         0.        ,  0.        ],\n",
       "       [ 0.62231712, -0.70458141, -0.49832569, ...,  1.        ,\n",
       "         0.        ,  0.        ],\n",
       "       ...,\n",
       "       [-1.33161794,  1.40179052, -1.40027264, ...,  0.        ,\n",
       "         1.        ,  0.        ],\n",
       "       [ 0.9853011 , -0.00245743, -1.40027264, ...,  0.        ,\n",
       "         0.        ,  1.        ],\n",
       "       [ 0.15661639,  1.40179052, -1.40027264, ...,  0.        ,\n",
       "         0.        ,  0.        ]])"
      ]
     },
     "execution_count": 106,
     "metadata": {},
     "output_type": "execute_result"
    }
   ],
   "execution_count": 106
  },
  {
   "metadata": {
    "ExecuteTime": {
     "end_time": "2025-07-25T18:52:59.841434Z",
     "start_time": "2025-07-25T18:52:59.832632Z"
    }
   },
   "cell_type": "code",
   "source": [
    "with open(\"Preprocessor.pkl\", \"wb\") as file:\n",
    "    pickle.dump(preprocessor, file)"
   ],
   "id": "c507ebe188d138c8",
   "outputs": [],
   "execution_count": 107
  },
  {
   "metadata": {
    "ExecuteTime": {
     "end_time": "2025-07-25T18:53:01.026740Z",
     "start_time": "2025-07-25T18:53:01.014543Z"
    }
   },
   "cell_type": "code",
   "source": "x_train, x_test, y_train, y_test = train_test_split(preprocessed_x, y, test_size=0.2, random_state=42)",
   "id": "3d150c8beecec6d2",
   "outputs": [],
   "execution_count": 108
  },
  {
   "metadata": {
    "ExecuteTime": {
     "end_time": "2025-07-25T18:53:02.020181Z",
     "start_time": "2025-07-25T18:53:01.949182Z"
    }
   },
   "cell_type": "code",
   "source": [
    "model = Sequential([\n",
    "    Dense(256, activation=\"relu\", input_shape=(x_train.shape[1],)),\n",
    "    BatchNormalization(),\n",
    "    Dropout(0.1),\n",
    "    Dense(128, activation=\"relu\"),\n",
    "    BatchNormalization(),\n",
    "    Dropout(0.1),\n",
    "    Dense(64, activation=\"relu\"),\n",
    "    Dense(1)  # Output layer for regression\n",
    "])"
   ],
   "id": "58e21e7856c0d130",
   "outputs": [
    {
     "name": "stderr",
     "output_type": "stream",
     "text": [
      "D:\\PYTHON\\GENERATIVE AI\\GENAI\\Lib\\site-packages\\keras\\src\\layers\\core\\dense.py:93: UserWarning: Do not pass an `input_shape`/`input_dim` argument to a layer. When using Sequential models, prefer using an `Input(shape)` object as the first layer in the model instead.\n",
      "  super().__init__(activity_regularizer=activity_regularizer, **kwargs)\n"
     ]
    }
   ],
   "execution_count": 109
  },
  {
   "metadata": {
    "ExecuteTime": {
     "end_time": "2025-07-25T18:53:03.791649Z",
     "start_time": "2025-07-25T18:53:03.774993Z"
    }
   },
   "cell_type": "code",
   "source": [
    "optimizer = tf.keras.optimizers.Adam(learning_rate=0.001)\n",
    "model.compile(optimizer=optimizer, loss=\"mean_squared_error\", metrics=[\"mae\"])"
   ],
   "id": "9bf7d9c6a2740063",
   "outputs": [],
   "execution_count": 110
  },
  {
   "metadata": {
    "ExecuteTime": {
     "end_time": "2025-07-25T18:53:04.548910Z",
     "start_time": "2025-07-25T18:53:04.541573Z"
    }
   },
   "cell_type": "code",
   "source": "early_stopping = EarlyStopping(monitor=\"val_loss\", patience=15, restore_best_weights=True)",
   "id": "7dc7ffcfdb103587",
   "outputs": [],
   "execution_count": 111
  },
  {
   "metadata": {
    "ExecuteTime": {
     "end_time": "2025-07-25T18:53:28.376573Z",
     "start_time": "2025-07-25T18:53:05.449392Z"
    }
   },
   "cell_type": "code",
   "source": [
    "history = model.fit(\n",
    "    x_train, y_train,\n",
    "    validation_data=(x_test, y_test),\n",
    "    epochs=200,\n",
    "    batch_size=32,\n",
    "    callbacks=[early_stopping],\n",
    "    verbose=1\n",
    ")\n"
   ],
   "id": "2482dbd936ff7cb3",
   "outputs": [
    {
     "name": "stdout",
     "output_type": "stream",
     "text": [
      "Epoch 1/200\n",
      "\u001B[1m50/50\u001B[0m \u001B[32m━━━━━━━━━━━━━━━━━━━━\u001B[0m\u001B[37m\u001B[0m \u001B[1m2s\u001B[0m 8ms/step - loss: 366892154880.0000 - mae: 537888.6250 - val_loss: 373349384192.0000 - val_mae: 543645.7500\n",
      "Epoch 2/200\n",
      "\u001B[1m50/50\u001B[0m \u001B[32m━━━━━━━━━━━━━━━━━━━━\u001B[0m\u001B[37m\u001B[0m \u001B[1m0s\u001B[0m 4ms/step - loss: 353244774400.0000 - mae: 526008.3125 - val_loss: 373324611584.0000 - val_mae: 543622.9375\n",
      "Epoch 3/200\n",
      "\u001B[1m50/50\u001B[0m \u001B[32m━━━━━━━━━━━━━━━━━━━━\u001B[0m\u001B[37m\u001B[0m \u001B[1m0s\u001B[0m 5ms/step - loss: 376420827136.0000 - mae: 548774.6875 - val_loss: 373254979584.0000 - val_mae: 543559.0625\n",
      "Epoch 4/200\n",
      "\u001B[1m50/50\u001B[0m \u001B[32m━━━━━━━━━━━━━━━━━━━━\u001B[0m\u001B[37m\u001B[0m \u001B[1m0s\u001B[0m 5ms/step - loss: 360613216256.0000 - mae: 535459.5625 - val_loss: 373129445376.0000 - val_mae: 543443.7500\n",
      "Epoch 5/200\n",
      "\u001B[1m50/50\u001B[0m \u001B[32m━━━━━━━━━━━━━━━━━━━━\u001B[0m\u001B[37m\u001B[0m \u001B[1m0s\u001B[0m 5ms/step - loss: 371486588928.0000 - mae: 541763.5000 - val_loss: 372913930240.0000 - val_mae: 543246.3125\n",
      "Epoch 6/200\n",
      "\u001B[1m50/50\u001B[0m \u001B[32m━━━━━━━━━━━━━━━━━━━━\u001B[0m\u001B[37m\u001B[0m \u001B[1m0s\u001B[0m 5ms/step - loss: 363956207616.0000 - mae: 534419.1250 - val_loss: 372568064000.0000 - val_mae: 542924.6250\n",
      "Epoch 7/200\n",
      "\u001B[1m50/50\u001B[0m \u001B[32m━━━━━━━━━━━━━━━━━━━━\u001B[0m\u001B[37m\u001B[0m \u001B[1m0s\u001B[0m 5ms/step - loss: 375003480064.0000 - mae: 545671.2500 - val_loss: 372055998464.0000 - val_mae: 542457.5000\n",
      "Epoch 8/200\n",
      "\u001B[1m50/50\u001B[0m \u001B[32m━━━━━━━━━━━━━━━━━━━━\u001B[0m\u001B[37m\u001B[0m \u001B[1m0s\u001B[0m 5ms/step - loss: 364558745600.0000 - mae: 538254.5625 - val_loss: 371281100800.0000 - val_mae: 541746.2500\n",
      "Epoch 9/200\n",
      "\u001B[1m50/50\u001B[0m \u001B[32m━━━━━━━━━━━━━━━━━━━━\u001B[0m\u001B[37m\u001B[0m \u001B[1m0s\u001B[0m 5ms/step - loss: 353274888192.0000 - mae: 525265.2500 - val_loss: 370345607168.0000 - val_mae: 540878.1250\n",
      "Epoch 10/200\n",
      "\u001B[1m50/50\u001B[0m \u001B[32m━━━━━━━━━━━━━━━━━━━━\u001B[0m\u001B[37m\u001B[0m \u001B[1m0s\u001B[0m 6ms/step - loss: 351908495360.0000 - mae: 529429.8750 - val_loss: 369212620800.0000 - val_mae: 539804.2500\n",
      "Epoch 11/200\n",
      "\u001B[1m50/50\u001B[0m \u001B[32m━━━━━━━━━━━━━━━━━━━━\u001B[0m\u001B[37m\u001B[0m \u001B[1m0s\u001B[0m 5ms/step - loss: 347786903552.0000 - mae: 522075.9375 - val_loss: 367665479680.0000 - val_mae: 538367.0625\n",
      "Epoch 12/200\n",
      "\u001B[1m50/50\u001B[0m \u001B[32m━━━━━━━━━━━━━━━━━━━━\u001B[0m\u001B[37m\u001B[0m \u001B[1m0s\u001B[0m 4ms/step - loss: 366701871104.0000 - mae: 538865.6250 - val_loss: 366226440192.0000 - val_mae: 537020.9375\n",
      "Epoch 13/200\n",
      "\u001B[1m50/50\u001B[0m \u001B[32m━━━━━━━━━━━━━━━━━━━━\u001B[0m\u001B[37m\u001B[0m \u001B[1m0s\u001B[0m 5ms/step - loss: 357034688512.0000 - mae: 530588.6875 - val_loss: 364322586624.0000 - val_mae: 535252.3750\n",
      "Epoch 14/200\n",
      "\u001B[1m50/50\u001B[0m \u001B[32m━━━━━━━━━━━━━━━━━━━━\u001B[0m\u001B[37m\u001B[0m \u001B[1m0s\u001B[0m 5ms/step - loss: 360307621888.0000 - mae: 533704.3125 - val_loss: 361883467776.0000 - val_mae: 532991.3750\n",
      "Epoch 15/200\n",
      "\u001B[1m50/50\u001B[0m \u001B[32m━━━━━━━━━━━━━━━━━━━━\u001B[0m\u001B[37m\u001B[0m \u001B[1m0s\u001B[0m 4ms/step - loss: 363385913344.0000 - mae: 535854.8750 - val_loss: 359315210240.0000 - val_mae: 530582.8125\n",
      "Epoch 16/200\n",
      "\u001B[1m50/50\u001B[0m \u001B[32m━━━━━━━━━━━━━━━━━━━━\u001B[0m\u001B[37m\u001B[0m \u001B[1m0s\u001B[0m 4ms/step - loss: 349642588160.0000 - mae: 524455.6250 - val_loss: 356517740544.0000 - val_mae: 527990.6250\n",
      "Epoch 17/200\n",
      "\u001B[1m50/50\u001B[0m \u001B[32m━━━━━━━━━━━━━━━━━━━━\u001B[0m\u001B[37m\u001B[0m \u001B[1m0s\u001B[0m 5ms/step - loss: 353675771904.0000 - mae: 527500.8125 - val_loss: 352642891776.0000 - val_mae: 524392.0625\n",
      "Epoch 18/200\n",
      "\u001B[1m50/50\u001B[0m \u001B[32m━━━━━━━━━━━━━━━━━━━━\u001B[0m\u001B[37m\u001B[0m \u001B[1m0s\u001B[0m 4ms/step - loss: 335951560704.0000 - mae: 509399.9688 - val_loss: 348926214144.0000 - val_mae: 520813.8125\n",
      "Epoch 19/200\n",
      "\u001B[1m50/50\u001B[0m \u001B[32m━━━━━━━━━━━━━━━━━━━━\u001B[0m\u001B[37m\u001B[0m \u001B[1m0s\u001B[0m 4ms/step - loss: 343319937024.0000 - mae: 519140.1875 - val_loss: 344423333888.0000 - val_mae: 516507.4062\n",
      "Epoch 20/200\n",
      "\u001B[1m50/50\u001B[0m \u001B[32m━━━━━━━━━━━━━━━━━━━━\u001B[0m\u001B[37m\u001B[0m \u001B[1m0s\u001B[0m 4ms/step - loss: 328760950784.0000 - mae: 501629.1562 - val_loss: 339911081984.0000 - val_mae: 512089.1562\n",
      "Epoch 21/200\n",
      "\u001B[1m50/50\u001B[0m \u001B[32m━━━━━━━━━━━━━━━━━━━━\u001B[0m\u001B[37m\u001B[0m \u001B[1m0s\u001B[0m 4ms/step - loss: 330559193088.0000 - mae: 505469.1875 - val_loss: 334811693056.0000 - val_mae: 506940.9062\n",
      "Epoch 22/200\n",
      "\u001B[1m50/50\u001B[0m \u001B[32m━━━━━━━━━━━━━━━━━━━━\u001B[0m\u001B[37m\u001B[0m \u001B[1m0s\u001B[0m 4ms/step - loss: 323204087808.0000 - mae: 498167.8750 - val_loss: 329975431168.0000 - val_mae: 502138.7188\n",
      "Epoch 23/200\n",
      "\u001B[1m50/50\u001B[0m \u001B[32m━━━━━━━━━━━━━━━━━━━━\u001B[0m\u001B[37m\u001B[0m \u001B[1m0s\u001B[0m 4ms/step - loss: 329662431232.0000 - mae: 504590.4375 - val_loss: 326058573824.0000 - val_mae: 498210.0312\n",
      "Epoch 24/200\n",
      "\u001B[1m50/50\u001B[0m \u001B[32m━━━━━━━━━━━━━━━━━━━━\u001B[0m\u001B[37m\u001B[0m \u001B[1m0s\u001B[0m 4ms/step - loss: 317480828928.0000 - mae: 490109.8125 - val_loss: 320309329920.0000 - val_mae: 492477.1562\n",
      "Epoch 25/200\n",
      "\u001B[1m50/50\u001B[0m \u001B[32m━━━━━━━━━━━━━━━━━━━━\u001B[0m\u001B[37m\u001B[0m \u001B[1m0s\u001B[0m 4ms/step - loss: 310730489856.0000 - mae: 485296.7188 - val_loss: 314897235968.0000 - val_mae: 487107.0938\n",
      "Epoch 26/200\n",
      "\u001B[1m50/50\u001B[0m \u001B[32m━━━━━━━━━━━━━━━━━━━━\u001B[0m\u001B[37m\u001B[0m \u001B[1m0s\u001B[0m 4ms/step - loss: 302207500288.0000 - mae: 478268.0625 - val_loss: 310047899648.0000 - val_mae: 482379.7188\n",
      "Epoch 27/200\n",
      "\u001B[1m50/50\u001B[0m \u001B[32m━━━━━━━━━━━━━━━━━━━━\u001B[0m\u001B[37m\u001B[0m \u001B[1m0s\u001B[0m 4ms/step - loss: 294975668224.0000 - mae: 470434.6562 - val_loss: 302341259264.0000 - val_mae: 474712.8125\n",
      "Epoch 28/200\n",
      "\u001B[1m50/50\u001B[0m \u001B[32m━━━━━━━━━━━━━━━━━━━━\u001B[0m\u001B[37m\u001B[0m \u001B[1m0s\u001B[0m 5ms/step - loss: 283715043328.0000 - mae: 456638.4062 - val_loss: 295518699520.0000 - val_mae: 467901.4688\n",
      "Epoch 29/200\n",
      "\u001B[1m50/50\u001B[0m \u001B[32m━━━━━━━━━━━━━━━━━━━━\u001B[0m\u001B[37m\u001B[0m \u001B[1m0s\u001B[0m 4ms/step - loss: 291257417728.0000 - mae: 464749.3750 - val_loss: 287722504192.0000 - val_mae: 460245.8125\n",
      "Epoch 30/200\n",
      "\u001B[1m50/50\u001B[0m \u001B[32m━━━━━━━━━━━━━━━━━━━━\u001B[0m\u001B[37m\u001B[0m \u001B[1m0s\u001B[0m 4ms/step - loss: 270919614464.0000 - mae: 441337.5000 - val_loss: 283982594048.0000 - val_mae: 456550.9688\n",
      "Epoch 31/200\n",
      "\u001B[1m50/50\u001B[0m \u001B[32m━━━━━━━━━━━━━━━━━━━━\u001B[0m\u001B[37m\u001B[0m \u001B[1m0s\u001B[0m 4ms/step - loss: 267923570688.0000 - mae: 443416.9375 - val_loss: 275848757248.0000 - val_mae: 448651.6250\n",
      "Epoch 32/200\n",
      "\u001B[1m50/50\u001B[0m \u001B[32m━━━━━━━━━━━━━━━━━━━━\u001B[0m\u001B[37m\u001B[0m \u001B[1m0s\u001B[0m 4ms/step - loss: 275466092544.0000 - mae: 447451.7500 - val_loss: 268852690944.0000 - val_mae: 441598.8438\n",
      "Epoch 33/200\n",
      "\u001B[1m50/50\u001B[0m \u001B[32m━━━━━━━━━━━━━━━━━━━━\u001B[0m\u001B[37m\u001B[0m \u001B[1m0s\u001B[0m 4ms/step - loss: 266129997824.0000 - mae: 439652.1562 - val_loss: 261336399872.0000 - val_mae: 434087.1562\n",
      "Epoch 34/200\n",
      "\u001B[1m50/50\u001B[0m \u001B[32m━━━━━━━━━━━━━━━━━━━━\u001B[0m\u001B[37m\u001B[0m \u001B[1m0s\u001B[0m 4ms/step - loss: 253017309184.0000 - mae: 425406.9062 - val_loss: 255256559616.0000 - val_mae: 428224.7188\n",
      "Epoch 35/200\n",
      "\u001B[1m50/50\u001B[0m \u001B[32m━━━━━━━━━━━━━━━━━━━━\u001B[0m\u001B[37m\u001B[0m \u001B[1m0s\u001B[0m 4ms/step - loss: 246272933888.0000 - mae: 419158.8125 - val_loss: 246444621824.0000 - val_mae: 419333.0938\n",
      "Epoch 36/200\n",
      "\u001B[1m50/50\u001B[0m \u001B[32m━━━━━━━━━━━━━━━━━━━━\u001B[0m\u001B[37m\u001B[0m \u001B[1m0s\u001B[0m 4ms/step - loss: 234951786496.0000 - mae: 409601.6562 - val_loss: 238023245824.0000 - val_mae: 411280.0000\n",
      "Epoch 37/200\n",
      "\u001B[1m50/50\u001B[0m \u001B[32m━━━━━━━━━━━━━━━━━━━━\u001B[0m\u001B[37m\u001B[0m \u001B[1m0s\u001B[0m 4ms/step - loss: 219889074176.0000 - mae: 392467.5000 - val_loss: 227222175744.0000 - val_mae: 401155.6250\n",
      "Epoch 38/200\n",
      "\u001B[1m50/50\u001B[0m \u001B[32m━━━━━━━━━━━━━━━━━━━━\u001B[0m\u001B[37m\u001B[0m \u001B[1m0s\u001B[0m 4ms/step - loss: 216025448448.0000 - mae: 386061.8438 - val_loss: 221195763712.0000 - val_mae: 395543.3125\n",
      "Epoch 39/200\n",
      "\u001B[1m50/50\u001B[0m \u001B[32m━━━━━━━━━━━━━━━━━━━━\u001B[0m\u001B[37m\u001B[0m \u001B[1m0s\u001B[0m 4ms/step - loss: 201567141888.0000 - mae: 367728.1562 - val_loss: 210033754112.0000 - val_mae: 384317.9688\n",
      "Epoch 40/200\n",
      "\u001B[1m50/50\u001B[0m \u001B[32m━━━━━━━━━━━━━━━━━━━━\u001B[0m\u001B[37m\u001B[0m \u001B[1m0s\u001B[0m 4ms/step - loss: 196840652800.0000 - mae: 368493.7812 - val_loss: 207658614784.0000 - val_mae: 382085.7500\n",
      "Epoch 41/200\n",
      "\u001B[1m50/50\u001B[0m \u001B[32m━━━━━━━━━━━━━━━━━━━━\u001B[0m\u001B[37m\u001B[0m \u001B[1m0s\u001B[0m 4ms/step - loss: 196690051072.0000 - mae: 372841.7188 - val_loss: 199637237760.0000 - val_mae: 374706.9062\n",
      "Epoch 42/200\n",
      "\u001B[1m50/50\u001B[0m \u001B[32m━━━━━━━━━━━━━━━━━━━━\u001B[0m\u001B[37m\u001B[0m \u001B[1m0s\u001B[0m 4ms/step - loss: 184396546048.0000 - mae: 353529.9375 - val_loss: 194666938368.0000 - val_mae: 369385.6875\n",
      "Epoch 43/200\n",
      "\u001B[1m50/50\u001B[0m \u001B[32m━━━━━━━━━━━━━━━━━━━━\u001B[0m\u001B[37m\u001B[0m \u001B[1m0s\u001B[0m 4ms/step - loss: 178056839168.0000 - mae: 347601.9062 - val_loss: 184728551424.0000 - val_mae: 360024.1562\n",
      "Epoch 44/200\n",
      "\u001B[1m50/50\u001B[0m \u001B[32m━━━━━━━━━━━━━━━━━━━━\u001B[0m\u001B[37m\u001B[0m \u001B[1m0s\u001B[0m 4ms/step - loss: 167100252160.0000 - mae: 330869.0312 - val_loss: 175960473600.0000 - val_mae: 351228.6875\n",
      "Epoch 45/200\n",
      "\u001B[1m50/50\u001B[0m \u001B[32m━━━━━━━━━━━━━━━━━━━━\u001B[0m\u001B[37m\u001B[0m \u001B[1m0s\u001B[0m 4ms/step - loss: 161888206848.0000 - mae: 330967.3750 - val_loss: 166117457920.0000 - val_mae: 341959.2812\n",
      "Epoch 46/200\n",
      "\u001B[1m50/50\u001B[0m \u001B[32m━━━━━━━━━━━━━━━━━━━━\u001B[0m\u001B[37m\u001B[0m \u001B[1m0s\u001B[0m 4ms/step - loss: 151255629824.0000 - mae: 316852.0312 - val_loss: 164000481280.0000 - val_mae: 339502.2500\n",
      "Epoch 47/200\n",
      "\u001B[1m50/50\u001B[0m \u001B[32m━━━━━━━━━━━━━━━━━━━━\u001B[0m\u001B[37m\u001B[0m \u001B[1m0s\u001B[0m 4ms/step - loss: 151804280832.0000 - mae: 316427.0625 - val_loss: 162070364160.0000 - val_mae: 337773.1562\n",
      "Epoch 48/200\n",
      "\u001B[1m50/50\u001B[0m \u001B[32m━━━━━━━━━━━━━━━━━━━━\u001B[0m\u001B[37m\u001B[0m \u001B[1m0s\u001B[0m 4ms/step - loss: 141911654400.0000 - mae: 310517.7812 - val_loss: 158019715072.0000 - val_mae: 333617.5312\n",
      "Epoch 49/200\n",
      "\u001B[1m50/50\u001B[0m \u001B[32m━━━━━━━━━━━━━━━━━━━━\u001B[0m\u001B[37m\u001B[0m \u001B[1m0s\u001B[0m 4ms/step - loss: 134017343488.0000 - mae: 298284.5625 - val_loss: 152187305984.0000 - val_mae: 327357.2812\n",
      "Epoch 50/200\n",
      "\u001B[1m50/50\u001B[0m \u001B[32m━━━━━━━━━━━━━━━━━━━━\u001B[0m\u001B[37m\u001B[0m \u001B[1m0s\u001B[0m 4ms/step - loss: 126748721152.0000 - mae: 289212.7188 - val_loss: 151694999552.0000 - val_mae: 327050.8125\n",
      "Epoch 51/200\n",
      "\u001B[1m50/50\u001B[0m \u001B[32m━━━━━━━━━━━━━━━━━━━━\u001B[0m\u001B[37m\u001B[0m \u001B[1m0s\u001B[0m 4ms/step - loss: 123430764544.0000 - mae: 287681.4688 - val_loss: 141265420288.0000 - val_mae: 316227.9688\n",
      "Epoch 52/200\n",
      "\u001B[1m50/50\u001B[0m \u001B[32m━━━━━━━━━━━━━━━━━━━━\u001B[0m\u001B[37m\u001B[0m \u001B[1m0s\u001B[0m 4ms/step - loss: 118521921536.0000 - mae: 282157.0938 - val_loss: 141319946240.0000 - val_mae: 315903.0938\n",
      "Epoch 53/200\n",
      "\u001B[1m50/50\u001B[0m \u001B[32m━━━━━━━━━━━━━━━━━━━━\u001B[0m\u001B[37m\u001B[0m \u001B[1m0s\u001B[0m 4ms/step - loss: 112196820992.0000 - mae: 273147.7188 - val_loss: 128989757440.0000 - val_mae: 301839.8438\n",
      "Epoch 54/200\n",
      "\u001B[1m50/50\u001B[0m \u001B[32m━━━━━━━━━━━━━━━━━━━━\u001B[0m\u001B[37m\u001B[0m \u001B[1m0s\u001B[0m 4ms/step - loss: 106687832064.0000 - mae: 265962.4062 - val_loss: 125666828288.0000 - val_mae: 299813.2500\n",
      "Epoch 55/200\n",
      "\u001B[1m50/50\u001B[0m \u001B[32m━━━━━━━━━━━━━━━━━━━━\u001B[0m\u001B[37m\u001B[0m \u001B[1m0s\u001B[0m 4ms/step - loss: 104479637504.0000 - mae: 263581.0938 - val_loss: 126076272640.0000 - val_mae: 300151.3750\n",
      "Epoch 56/200\n",
      "\u001B[1m50/50\u001B[0m \u001B[32m━━━━━━━━━━━━━━━━━━━━\u001B[0m\u001B[37m\u001B[0m \u001B[1m0s\u001B[0m 4ms/step - loss: 100433461248.0000 - mae: 259764.3594 - val_loss: 126481932288.0000 - val_mae: 300536.9062\n",
      "Epoch 57/200\n",
      "\u001B[1m50/50\u001B[0m \u001B[32m━━━━━━━━━━━━━━━━━━━━\u001B[0m\u001B[37m\u001B[0m \u001B[1m0s\u001B[0m 4ms/step - loss: 96754204672.0000 - mae: 254129.0625 - val_loss: 122959880192.0000 - val_mae: 297698.2500\n",
      "Epoch 58/200\n",
      "\u001B[1m50/50\u001B[0m \u001B[32m━━━━━━━━━━━━━━━━━━━━\u001B[0m\u001B[37m\u001B[0m \u001B[1m0s\u001B[0m 4ms/step - loss: 94677622784.0000 - mae: 251179.8906 - val_loss: 116987912192.0000 - val_mae: 288877.4062\n",
      "Epoch 59/200\n",
      "\u001B[1m50/50\u001B[0m \u001B[32m━━━━━━━━━━━━━━━━━━━━\u001B[0m\u001B[37m\u001B[0m \u001B[1m0s\u001B[0m 4ms/step - loss: 86740688896.0000 - mae: 242726.7344 - val_loss: 116956217344.0000 - val_mae: 286734.4688\n",
      "Epoch 60/200\n",
      "\u001B[1m50/50\u001B[0m \u001B[32m━━━━━━━━━━━━━━━━━━━━\u001B[0m\u001B[37m\u001B[0m \u001B[1m0s\u001B[0m 4ms/step - loss: 89603522560.0000 - mae: 243608.6875 - val_loss: 113338556416.0000 - val_mae: 282367.7812\n",
      "Epoch 61/200\n",
      "\u001B[1m50/50\u001B[0m \u001B[32m━━━━━━━━━━━━━━━━━━━━\u001B[0m\u001B[37m\u001B[0m \u001B[1m0s\u001B[0m 4ms/step - loss: 94129913856.0000 - mae: 250760.8594 - val_loss: 111236210688.0000 - val_mae: 279400.3438\n",
      "Epoch 62/200\n",
      "\u001B[1m50/50\u001B[0m \u001B[32m━━━━━━━━━━━━━━━━━━━━\u001B[0m\u001B[37m\u001B[0m \u001B[1m0s\u001B[0m 4ms/step - loss: 84338647040.0000 - mae: 239386.5156 - val_loss: 114540290048.0000 - val_mae: 282552.4062\n",
      "Epoch 63/200\n",
      "\u001B[1m50/50\u001B[0m \u001B[32m━━━━━━━━━━━━━━━━━━━━\u001B[0m\u001B[37m\u001B[0m \u001B[1m0s\u001B[0m 4ms/step - loss: 81604141056.0000 - mae: 234321.3281 - val_loss: 109711187968.0000 - val_mae: 278751.4688\n",
      "Epoch 64/200\n",
      "\u001B[1m50/50\u001B[0m \u001B[32m━━━━━━━━━━━━━━━━━━━━\u001B[0m\u001B[37m\u001B[0m \u001B[1m0s\u001B[0m 4ms/step - loss: 85550923776.0000 - mae: 240492.7500 - val_loss: 113328685056.0000 - val_mae: 279585.1250\n",
      "Epoch 65/200\n",
      "\u001B[1m50/50\u001B[0m \u001B[32m━━━━━━━━━━━━━━━━━━━━\u001B[0m\u001B[37m\u001B[0m \u001B[1m0s\u001B[0m 4ms/step - loss: 70388490240.0000 - mae: 216822.9531 - val_loss: 110836269056.0000 - val_mae: 277740.3125\n",
      "Epoch 66/200\n",
      "\u001B[1m50/50\u001B[0m \u001B[32m━━━━━━━━━━━━━━━━━━━━\u001B[0m\u001B[37m\u001B[0m \u001B[1m0s\u001B[0m 4ms/step - loss: 70599565312.0000 - mae: 216031.7812 - val_loss: 111319367680.0000 - val_mae: 279805.2188\n",
      "Epoch 67/200\n",
      "\u001B[1m50/50\u001B[0m \u001B[32m━━━━━━━━━━━━━━━━━━━━\u001B[0m\u001B[37m\u001B[0m \u001B[1m0s\u001B[0m 6ms/step - loss: 72084463616.0000 - mae: 222010.1875 - val_loss: 105618841600.0000 - val_mae: 272698.8125\n",
      "Epoch 68/200\n",
      "\u001B[1m50/50\u001B[0m \u001B[32m━━━━━━━━━━━━━━━━━━━━\u001B[0m\u001B[37m\u001B[0m \u001B[1m0s\u001B[0m 4ms/step - loss: 73043353600.0000 - mae: 222706.8281 - val_loss: 110802264064.0000 - val_mae: 277275.3750\n",
      "Epoch 69/200\n",
      "\u001B[1m50/50\u001B[0m \u001B[32m━━━━━━━━━━━━━━━━━━━━\u001B[0m\u001B[37m\u001B[0m \u001B[1m0s\u001B[0m 4ms/step - loss: 71314923520.0000 - mae: 214751.3906 - val_loss: 107372544000.0000 - val_mae: 273781.0938\n",
      "Epoch 70/200\n",
      "\u001B[1m50/50\u001B[0m \u001B[32m━━━━━━━━━━━━━━━━━━━━\u001B[0m\u001B[37m\u001B[0m \u001B[1m0s\u001B[0m 4ms/step - loss: 63990521856.0000 - mae: 206032.2031 - val_loss: 107019649024.0000 - val_mae: 274845.8125\n",
      "Epoch 71/200\n",
      "\u001B[1m50/50\u001B[0m \u001B[32m━━━━━━━━━━━━━━━━━━━━\u001B[0m\u001B[37m\u001B[0m \u001B[1m0s\u001B[0m 4ms/step - loss: 65997520896.0000 - mae: 211966.0312 - val_loss: 107794432000.0000 - val_mae: 272024.5938\n",
      "Epoch 72/200\n",
      "\u001B[1m50/50\u001B[0m \u001B[32m━━━━━━━━━━━━━━━━━━━━\u001B[0m\u001B[37m\u001B[0m \u001B[1m0s\u001B[0m 4ms/step - loss: 60517101568.0000 - mae: 200864.3125 - val_loss: 113333796864.0000 - val_mae: 282290.3750\n",
      "Epoch 73/200\n",
      "\u001B[1m50/50\u001B[0m \u001B[32m━━━━━━━━━━━━━━━━━━━━\u001B[0m\u001B[37m\u001B[0m \u001B[1m0s\u001B[0m 4ms/step - loss: 60854812672.0000 - mae: 201466.3125 - val_loss: 105447161856.0000 - val_mae: 270811.0312\n",
      "Epoch 74/200\n",
      "\u001B[1m50/50\u001B[0m \u001B[32m━━━━━━━━━━━━━━━━━━━━\u001B[0m\u001B[37m\u001B[0m \u001B[1m0s\u001B[0m 4ms/step - loss: 66320932864.0000 - mae: 209157.3594 - val_loss: 109847207936.0000 - val_mae: 275189.2500\n",
      "Epoch 75/200\n",
      "\u001B[1m50/50\u001B[0m \u001B[32m━━━━━━━━━━━━━━━━━━━━\u001B[0m\u001B[37m\u001B[0m \u001B[1m0s\u001B[0m 4ms/step - loss: 68094648320.0000 - mae: 212801.4062 - val_loss: 109097058304.0000 - val_mae: 277344.4688\n",
      "Epoch 76/200\n",
      "\u001B[1m50/50\u001B[0m \u001B[32m━━━━━━━━━━━━━━━━━━━━\u001B[0m\u001B[37m\u001B[0m \u001B[1m0s\u001B[0m 4ms/step - loss: 62111240192.0000 - mae: 204363.7812 - val_loss: 110213750784.0000 - val_mae: 276209.6875\n",
      "Epoch 77/200\n",
      "\u001B[1m50/50\u001B[0m \u001B[32m━━━━━━━━━━━━━━━━━━━━\u001B[0m\u001B[37m\u001B[0m \u001B[1m0s\u001B[0m 4ms/step - loss: 57177059328.0000 - mae: 194141.3594 - val_loss: 109337427968.0000 - val_mae: 273491.9688\n",
      "Epoch 78/200\n",
      "\u001B[1m50/50\u001B[0m \u001B[32m━━━━━━━━━━━━━━━━━━━━\u001B[0m\u001B[37m\u001B[0m \u001B[1m0s\u001B[0m 4ms/step - loss: 62507552768.0000 - mae: 203984.6875 - val_loss: 110959747072.0000 - val_mae: 279575.2500\n",
      "Epoch 79/200\n",
      "\u001B[1m50/50\u001B[0m \u001B[32m━━━━━━━━━━━━━━━━━━━━\u001B[0m\u001B[37m\u001B[0m \u001B[1m0s\u001B[0m 4ms/step - loss: 55704338432.0000 - mae: 193985.4531 - val_loss: 116331331584.0000 - val_mae: 283366.1250\n",
      "Epoch 80/200\n",
      "\u001B[1m50/50\u001B[0m \u001B[32m━━━━━━━━━━━━━━━━━━━━\u001B[0m\u001B[37m\u001B[0m \u001B[1m0s\u001B[0m 4ms/step - loss: 58926936064.0000 - mae: 193808.6875 - val_loss: 115405291520.0000 - val_mae: 281486.0625\n",
      "Epoch 81/200\n",
      "\u001B[1m50/50\u001B[0m \u001B[32m━━━━━━━━━━━━━━━━━━━━\u001B[0m\u001B[37m\u001B[0m \u001B[1m0s\u001B[0m 4ms/step - loss: 56133926912.0000 - mae: 191224.9375 - val_loss: 111515492352.0000 - val_mae: 277065.7500\n",
      "Epoch 82/200\n",
      "\u001B[1m50/50\u001B[0m \u001B[32m━━━━━━━━━━━━━━━━━━━━\u001B[0m\u001B[37m\u001B[0m \u001B[1m0s\u001B[0m 4ms/step - loss: 54269800448.0000 - mae: 190037.5156 - val_loss: 116132462592.0000 - val_mae: 281431.6875\n",
      "Epoch 83/200\n",
      "\u001B[1m50/50\u001B[0m \u001B[32m━━━━━━━━━━━━━━━━━━━━\u001B[0m\u001B[37m\u001B[0m \u001B[1m0s\u001B[0m 4ms/step - loss: 63491530752.0000 - mae: 205297.1406 - val_loss: 117989933056.0000 - val_mae: 286060.2500\n",
      "Epoch 84/200\n",
      "\u001B[1m50/50\u001B[0m \u001B[32m━━━━━━━━━━━━━━━━━━━━\u001B[0m\u001B[37m\u001B[0m \u001B[1m0s\u001B[0m 4ms/step - loss: 56701640704.0000 - mae: 194112.0156 - val_loss: 116083179520.0000 - val_mae: 282734.7188\n",
      "Epoch 85/200\n",
      "\u001B[1m50/50\u001B[0m \u001B[32m━━━━━━━━━━━━━━━━━━━━\u001B[0m\u001B[37m\u001B[0m \u001B[1m0s\u001B[0m 4ms/step - loss: 53056393216.0000 - mae: 186049.4375 - val_loss: 117226823680.0000 - val_mae: 285724.5625\n",
      "Epoch 86/200\n",
      "\u001B[1m50/50\u001B[0m \u001B[32m━━━━━━━━━━━━━━━━━━━━\u001B[0m\u001B[37m\u001B[0m \u001B[1m0s\u001B[0m 4ms/step - loss: 55302537216.0000 - mae: 191064.7500 - val_loss: 116250951680.0000 - val_mae: 284519.8125\n",
      "Epoch 87/200\n",
      "\u001B[1m50/50\u001B[0m \u001B[32m━━━━━━━━━━━━━━━━━━━━\u001B[0m\u001B[37m\u001B[0m \u001B[1m0s\u001B[0m 4ms/step - loss: 53892161536.0000 - mae: 190030.5781 - val_loss: 113740283904.0000 - val_mae: 279128.0312\n",
      "Epoch 88/200\n",
      "\u001B[1m50/50\u001B[0m \u001B[32m━━━━━━━━━━━━━━━━━━━━\u001B[0m\u001B[37m\u001B[0m \u001B[1m0s\u001B[0m 4ms/step - loss: 56626524160.0000 - mae: 192488.7969 - val_loss: 118786818048.0000 - val_mae: 286219.3438\n"
     ]
    }
   ],
   "execution_count": 112
  },
  {
   "metadata": {
    "ExecuteTime": {
     "end_time": "2025-07-25T18:54:38.679899Z",
     "start_time": "2025-07-25T18:54:38.575950Z"
    }
   },
   "cell_type": "code",
   "source": [
    "test_loss, test_mae = model.evaluate(x_test, y_test, verbose=0)\n",
    "print(f\"Test Mean Absolute Error: {test_mae:.2f}\")"
   ],
   "id": "929eacc0d6913373",
   "outputs": [
    {
     "name": "stdout",
     "output_type": "stream",
     "text": [
      "Test Mean Absolute Error: 270811.03\n"
     ]
    }
   ],
   "execution_count": 113
  },
  {
   "metadata": {
    "ExecuteTime": {
     "end_time": "2025-07-25T18:54:39.727193Z",
     "start_time": "2025-07-25T18:54:39.685253Z"
    }
   },
   "cell_type": "code",
   "source": "model.save(\"house_price_model.h5\")",
   "id": "7c6d10ded1933ee1",
   "outputs": [
    {
     "name": "stderr",
     "output_type": "stream",
     "text": [
      "WARNING:absl:You are saving your model as an HDF5 file via `model.save()` or `keras.saving.save_model(model)`. This file format is considered legacy. We recommend using instead the native Keras format, e.g. `model.save('my_model.keras')` or `keras.saving.save_model(model, 'my_model.keras')`. \n"
     ]
    }
   ],
   "execution_count": 114
  },
  {
   "metadata": {
    "ExecuteTime": {
     "end_time": "2025-07-25T18:54:42.710540Z",
     "start_time": "2025-07-25T18:54:42.474547Z"
    }
   },
   "cell_type": "code",
   "source": "y_pred = model.predict(x_test).flatten()",
   "id": "a5f3d4e7ff6371a9",
   "outputs": [
    {
     "name": "stdout",
     "output_type": "stream",
     "text": [
      "\u001B[1m13/13\u001B[0m \u001B[32m━━━━━━━━━━━━━━━━━━━━\u001B[0m\u001B[37m\u001B[0m \u001B[1m0s\u001B[0m 7ms/step\n"
     ]
    }
   ],
   "execution_count": 115
  },
  {
   "metadata": {
    "ExecuteTime": {
     "end_time": "2025-07-25T18:54:43.633518Z",
     "start_time": "2025-07-25T18:54:43.395672Z"
    }
   },
   "cell_type": "code",
   "source": [
    "errors = y_test - y_pred\n",
    "plt.figure(figsize=(10, 6))\n",
    "plt.hist(errors, bins=50)\n",
    "plt.xlabel(\"Prediction Error ($)\")\n",
    "plt.ylabel(\"Frequency\")\n",
    "plt.title(\"Distribution of Prediction Errors\")\n",
    "plt.tight_layout()\n",
    "plt.show()"
   ],
   "id": "49c6125a5203a718",
   "outputs": [
    {
     "data": {
      "text/plain": [
       "<Figure size 1000x600 with 1 Axes>"
      ],
      "image/png": "[encoded data removed]"
     },
     "metadata": {},
     "output_type": "display_data"
    }
   ],
   "execution_count": 116
  },
  {
   "metadata": {
    "ExecuteTime": {
     "end_time": "2025-07-25T18:54:44.564702Z",
     "start_time": "2025-07-25T18:54:44.296239Z"
    }
   },
   "cell_type": "code",
   "source": [
    "plt.figure(figsize=(10, 6))\n",
    "plt.scatter(y_test, y_pred, alpha=0.5)\n",
    "plt.plot([y_test.min(), y_test.max()], [y_test.min(), y_test.max()], 'r--', lw=2)\n",
    "plt.xlabel(\"Actual Price ($)\")\n",
    "plt.ylabel(\"Predicted Price ($)\")\n",
    "plt.title(\"Actual vs. Predicted House Prices\")\n",
    "plt.tight_layout()\n",
    "plt.show\n"
   ],
   "id": "eeec1efb9fc89705",
   "outputs": [
    {
     "data": {
      "text/plain": [
       "<function matplotlib.pyplot.show(close=None, block=None)>"
      ]
     },
     "execution_count": 117,
     "metadata": {},
     "output_type": "execute_result"
    },
    {
     "data": {
      "text/plain": [
       "<Figure size 1000x600 with 1 Axes>"
      ],
      "image/png": "[encoded data removed]"
     },
     "metadata": {},
     "output_type": "display_data"
    }
   ],
   "execution_count": 117
  },
  {
   "metadata": {
    "ExecuteTime": {
     "end_time": "2025-07-25T18:54:45.132865Z",
     "start_time": "2025-07-25T18:54:45.125606Z"
    }
   },
   "cell_type": "code",
   "source": [
    "mae = mean_absolute_error(y_test, y_pred)\n",
    "mse = mean_squared_error(y_test, y_pred)\n",
    "rmse = np.sqrt(mse)\n",
    "r2 = r2_score(y_test, y_pred)"
   ],
   "id": "f87cc8e9175ccf2b",
   "outputs": [],
   "execution_count": 118
  },
  {
   "metadata": {
    "ExecuteTime": {
     "end_time": "2025-07-25T18:54:45.967831Z",
     "start_time": "2025-07-25T18:54:45.962216Z"
    }
   },
   "cell_type": "code",
   "source": [
    "print(f\"Mean Absolute Error (MAE): ${mae:.2f}\")\n",
    "print(f\"Mean Squared Error (MSE): {mse:.2f}\")\n",
    "print(f\"Root Mean Squared Error (RMSE): ${rmse:.2f}\")\n",
    "print(f\"R-squared (R²): {r2:.4f}\")"
   ],
   "id": "e841f1c8ae1398d",
   "outputs": [
    {
     "name": "stdout",
     "output_type": "stream",
     "text": [
      "Mean Absolute Error (MAE): $270811.03\n",
      "Mean Squared Error (MSE): 105447170048.00\n",
      "Root Mean Squared Error (RMSE): $324726.30\n",
      "R-squared (R²): -0.3554\n"
     ]
    }
   ],
   "execution_count": 119
  },
  {
   "metadata": {},
   "cell_type": "code",
   "outputs": [],
   "execution_count": null,
   "source": "",
   "id": "a8a55c0c019cb931"
  }
 ],
 "metadata": {
  "kernelspec": {
   "display_name": "Python 3",
   "language": "python",
   "name": "python3"
  },
  "language_info": {
   "codemirror_mode": {
    "name": "ipython",
    "version": 2
   },
   "file_extension": ".py",
   "mimetype": "text/x-python",
   "name": "python",
   "nbconvert_exporter": "python",
   "pygments_lexer": "ipython2",
   "version": "2.7.6"
  }
 },
 "nbformat": 4,
 "nbformat_minor": 5
}
